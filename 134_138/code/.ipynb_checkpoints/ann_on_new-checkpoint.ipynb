{
 "cells": [
  {
   "cell_type": "code",
   "execution_count": 137,
   "metadata": {},
   "outputs": [],
   "source": [
    "# Artificial Neural Network\n",
    "# Importing the libraries\n",
    "import numpy as np\n",
    "import pandas as pd\n",
    "import tensorflow as tf"
   ]
  },
  {
   "cell_type": "code",
   "execution_count": 138,
   "metadata": {},
   "outputs": [
    {
     "name": "stdout",
     "output_type": "stream",
     "text": [
      "[[6.03417399e-05 1.00000000e+00 3.12197607e-01]\n",
      " [6.95018345e-05 5.48813363e-01 3.13973385e-01]\n",
      " [5.96706951e-05 3.88594448e-01 3.17788900e-01]\n",
      " ...\n",
      " [3.85682554e-05 6.86652493e-02 1.09622127e-04]\n",
      " [3.79554529e-05 6.86143861e-02 1.31548372e-03]\n",
      " [1.27424613e-04 6.86143861e-02 0.00000000e+00]]\n",
      "False\n",
      "[0. 0. 0. ... 2. 2. 2.]\n",
      "False\n"
     ]
    }
   ],
   "source": [
    "# Part 1 - Data Preprocessing\n",
    "# Importing the dataset\n",
    "dataset = pd.read_csv(\"C:/Users/hp/Desktop/hip/2nd/normalized_output.csv\")\n",
    "\n",
    "X = dataset.iloc[:, 1:-1].values\n",
    "y = dataset.iloc[:, -1].values\n",
    "print(X)\n",
    "print(np.isnan(X).any())\n",
    "print(y)\n",
    "print(np.isnan(y).any())"
   ]
  },
  {
   "cell_type": "code",
   "execution_count": 139,
   "metadata": {},
   "outputs": [
    {
     "name": "stdout",
     "output_type": "stream",
     "text": [
      "[0 0 0 ... 2 2 2]\n"
     ]
    }
   ],
   "source": [
    "# Encoding categorical data\n",
    "# Label Encoding the \"Gender\" column\n",
    "from sklearn.preprocessing import LabelEncoder\n",
    "le = LabelEncoder()\n",
    "y = le.fit_transform(y)\n",
    "print(y)"
   ]
  },
  {
   "cell_type": "code",
   "execution_count": 155,
   "metadata": {},
   "outputs": [],
   "source": [
    "# Splitting the dataset into the Training set and Test set\n",
    "from sklearn.model_selection import train_test_split\n",
    "X_train, X_test, y_train, y_test = train_test_split(X, y, test_size = 0.2, random_state = 15)"
   ]
  },
  {
   "cell_type": "code",
   "execution_count": 156,
   "metadata": {},
   "outputs": [
    {
     "name": "stdout",
     "output_type": "stream",
     "text": [
      "[[1.32674059e-04 7.51757322e-02 2.05417699e-01]\n",
      " [1.45147646e-04 7.51401280e-02 2.01102310e-01]\n",
      " [6.70331047e-01 7.97300184e-02 1.85546086e-01]\n",
      " ...\n",
      " [5.41124016e-05 7.67474034e-02 2.24445895e-01]\n",
      " [6.49953619e-05 8.10300805e-02 8.77627509e-01]\n",
      " [1.41889977e-04 7.63557572e-02 4.50875189e-01]] [1 1 2 ... 1 0 1]\n"
     ]
    }
   ],
   "source": [
    "print(X_train, y_train)"
   ]
  },
  {
   "cell_type": "code",
   "execution_count": 157,
   "metadata": {},
   "outputs": [],
   "source": [
    "# Feature Scaling\n",
    "from sklearn.preprocessing import StandardScaler\n",
    "sc = StandardScaler()\n",
    "X_train = sc.fit_transform(X_train)\n",
    "X_test = sc.transform(X_test)"
   ]
  },
  {
   "cell_type": "code",
   "execution_count": 158,
   "metadata": {},
   "outputs": [],
   "source": [
    "# Part 2 - Building the ANN\n",
    "# Initializing the ANN\n",
    "ann = tf.keras.models.Sequential()\n",
    "# Adding the input layer and the first hidden layer\n",
    "ann.add(tf.keras.layers.Dense(units=6, activation='relu'))\n",
    "ann.add(tf.keras.layers.Dropout(0.5))\n",
    "# Adding the second hidden layer\n",
    "ann.add(tf.keras.layers.Dense(units=6, activation='relu'))\n",
    "ann.add(tf.keras.layers.Dropout(0.5))\n",
    "# Adding the second hidden layer\n",
    "ann.add(tf.keras.layers.Dense(units=6, activation='relu'))\n",
    "# # Adding the second hidden layer\n",
    "# ann.add(tf.keras.layers.Dense(units=6, activation='relu'))\n",
    "# # Adding the second hidden layer\n",
    "# ann.add(tf.keras.layers.Dense(units=6, activation='relu'))\n",
    "# Adding the output layer\n",
    "ann.add(tf.keras.layers.Dense(units=3, activation='softmax'))"
   ]
  },
  {
   "cell_type": "code",
   "execution_count": 159,
   "metadata": {},
   "outputs": [
    {
     "name": "stdout",
     "output_type": "stream",
     "text": [
      "[1 1 2 ... 1 0 1]\n",
      "[[0. 1. 0.]\n",
      " [0. 1. 0.]\n",
      " [0. 0. 1.]\n",
      " ...\n",
      " [0. 1. 0.]\n",
      " [1. 0. 0.]\n",
      " [0. 1. 0.]]\n"
     ]
    }
   ],
   "source": [
    "from tensorflow.keras.utils import to_categorical\n",
    "\n",
    "y_train_encoded = to_categorical(y_train, num_classes=3)\n",
    "print(y_train)\n",
    "print(y_train_encoded)"
   ]
  },
  {
   "cell_type": "code",
   "execution_count": 160,
   "metadata": {},
   "outputs": [],
   "source": [
    "ann.compile(optimizer='adam', loss='categorical_crossentropy', metrics=['accuracy'])"
   ]
  },
  {
   "cell_type": "code",
   "execution_count": 161,
   "metadata": {},
   "outputs": [
    {
     "name": "stdout",
     "output_type": "stream",
     "text": [
      "Epoch 1/100\n",
      "321/321 [==============================] - 1s 1ms/step - loss: 0.9758 - accuracy: 0.5037\n",
      "Epoch 2/100\n",
      "321/321 [==============================] - 0s 1ms/step - loss: 0.8597 - accuracy: 0.5910\n",
      "Epoch 3/100\n",
      "321/321 [==============================] - 0s 1ms/step - loss: 0.7845 - accuracy: 0.6192\n",
      "Epoch 4/100\n",
      "321/321 [==============================] - 0s 1ms/step - loss: 0.7249 - accuracy: 0.6481\n",
      "Epoch 5/100\n",
      "321/321 [==============================] - 0s 1ms/step - loss: 0.6729 - accuracy: 0.6707\n",
      "Epoch 6/100\n",
      "321/321 [==============================] - 0s 1ms/step - loss: 0.6428 - accuracy: 0.6848\n",
      "Epoch 7/100\n",
      "321/321 [==============================] - 0s 1ms/step - loss: 0.6227 - accuracy: 0.6955\n",
      "Epoch 8/100\n",
      "321/321 [==============================] - 0s 1ms/step - loss: 0.6039 - accuracy: 0.7051\n",
      "Epoch 9/100\n",
      "321/321 [==============================] - 0s 1ms/step - loss: 0.5842 - accuracy: 0.7147\n",
      "Epoch 10/100\n",
      "321/321 [==============================] - 0s 1ms/step - loss: 0.5824 - accuracy: 0.7153\n",
      "Epoch 11/100\n",
      "321/321 [==============================] - 0s 1ms/step - loss: 0.5584 - accuracy: 0.7240\n",
      "Epoch 12/100\n",
      "321/321 [==============================] - 0s 1ms/step - loss: 0.5321 - accuracy: 0.7440\n",
      "Epoch 13/100\n",
      "321/321 [==============================] - 0s 1ms/step - loss: 0.5361 - accuracy: 0.7387\n",
      "Epoch 14/100\n",
      "321/321 [==============================] - 1s 2ms/step - loss: 0.5300 - accuracy: 0.7404\n",
      "Epoch 15/100\n",
      "321/321 [==============================] - 0s 1ms/step - loss: 0.5068 - accuracy: 0.7561\n",
      "Epoch 16/100\n",
      "321/321 [==============================] - 0s 1ms/step - loss: 0.5026 - accuracy: 0.7627\n",
      "Epoch 17/100\n",
      "321/321 [==============================] - 0s 1ms/step - loss: 0.4811 - accuracy: 0.7815\n",
      "Epoch 18/100\n",
      "321/321 [==============================] - 0s 1ms/step - loss: 0.4789 - accuracy: 0.7873\n",
      "Epoch 19/100\n",
      "321/321 [==============================] - 0s 2ms/step - loss: 0.4797 - accuracy: 0.7895\n",
      "Epoch 20/100\n",
      "321/321 [==============================] - 0s 1ms/step - loss: 0.4714 - accuracy: 0.7923\n",
      "Epoch 21/100\n",
      "321/321 [==============================] - 0s 1ms/step - loss: 0.4684 - accuracy: 0.7964\n",
      "Epoch 22/100\n",
      "321/321 [==============================] - 0s 1ms/step - loss: 0.4656 - accuracy: 0.7979\n",
      "Epoch 23/100\n",
      "321/321 [==============================] - 1s 2ms/step - loss: 0.4568 - accuracy: 0.8092\n",
      "Epoch 24/100\n",
      "321/321 [==============================] - 0s 1ms/step - loss: 0.4709 - accuracy: 0.7943\n",
      "Epoch 25/100\n",
      "321/321 [==============================] - 0s 1ms/step - loss: 0.4640 - accuracy: 0.8043\n",
      "Epoch 26/100\n",
      "321/321 [==============================] - 0s 1ms/step - loss: 0.4515 - accuracy: 0.8096\n",
      "Epoch 27/100\n",
      "321/321 [==============================] - 0s 1ms/step - loss: 0.4349 - accuracy: 0.8032\n",
      "Epoch 28/100\n",
      "321/321 [==============================] - 0s 1ms/step - loss: 0.4538 - accuracy: 0.8001\n",
      "Epoch 29/100\n",
      "321/321 [==============================] - 0s 1ms/step - loss: 0.4413 - accuracy: 0.8082\n",
      "Epoch 30/100\n",
      "321/321 [==============================] - 0s 1ms/step - loss: 0.4374 - accuracy: 0.8104\n",
      "Epoch 31/100\n",
      "321/321 [==============================] - 0s 1ms/step - loss: 0.4338 - accuracy: 0.8076\n",
      "Epoch 32/100\n",
      "321/321 [==============================] - 0s 1ms/step - loss: 0.4423 - accuracy: 0.8096\n",
      "Epoch 33/100\n",
      "321/321 [==============================] - 0s 1ms/step - loss: 0.4387 - accuracy: 0.8104\n",
      "Epoch 34/100\n",
      "321/321 [==============================] - 1s 2ms/step - loss: 0.4355 - accuracy: 0.8116\n",
      "Epoch 35/100\n",
      "321/321 [==============================] - 0s 1ms/step - loss: 0.4380 - accuracy: 0.8073\n",
      "Epoch 36/100\n",
      "321/321 [==============================] - 0s 1ms/step - loss: 0.4255 - accuracy: 0.8131\n",
      "Epoch 37/100\n",
      "321/321 [==============================] - 0s 1ms/step - loss: 0.4428 - accuracy: 0.8028\n",
      "Epoch 38/100\n",
      "321/321 [==============================] - 0s 1ms/step - loss: 0.4391 - accuracy: 0.8103\n",
      "Epoch 39/100\n",
      "321/321 [==============================] - 0s 1ms/step - loss: 0.4330 - accuracy: 0.8118\n",
      "Epoch 40/100\n",
      "321/321 [==============================] - 0s 1ms/step - loss: 0.4398 - accuracy: 0.8099\n",
      "Epoch 41/100\n",
      "321/321 [==============================] - 0s 1ms/step - loss: 0.4223 - accuracy: 0.8164\n",
      "Epoch 42/100\n",
      "321/321 [==============================] - 0s 1ms/step - loss: 0.4225 - accuracy: 0.8143\n",
      "Epoch 43/100\n",
      "321/321 [==============================] - 0s 1ms/step - loss: 0.4184 - accuracy: 0.8150\n",
      "Epoch 44/100\n",
      "321/321 [==============================] - 0s 1ms/step - loss: 0.4242 - accuracy: 0.8134\n",
      "Epoch 45/100\n",
      "321/321 [==============================] - 0s 2ms/step - loss: 0.4413 - accuracy: 0.8184\n",
      "Epoch 46/100\n",
      "321/321 [==============================] - 0s 1ms/step - loss: 0.4311 - accuracy: 0.8178\n",
      "Epoch 47/100\n",
      "321/321 [==============================] - 0s 1ms/step - loss: 0.4439 - accuracy: 0.8178\n",
      "Epoch 48/100\n",
      "321/321 [==============================] - 0s 1ms/step - loss: 0.4280 - accuracy: 0.8218\n",
      "Epoch 49/100\n",
      "321/321 [==============================] - 1s 2ms/step - loss: 0.4422 - accuracy: 0.8157\n",
      "Epoch 50/100\n",
      "321/321 [==============================] - 0s 1ms/step - loss: 0.4047 - accuracy: 0.8271\n",
      "Epoch 51/100\n",
      "321/321 [==============================] - 0s 1ms/step - loss: 0.4085 - accuracy: 0.8258\n",
      "Epoch 52/100\n",
      "321/321 [==============================] - 1s 2ms/step - loss: 0.4170 - accuracy: 0.8223\n",
      "Epoch 53/100\n",
      "321/321 [==============================] - 0s 1ms/step - loss: 0.4240 - accuracy: 0.8264\n",
      "Epoch 54/100\n",
      "321/321 [==============================] - 0s 1ms/step - loss: 0.4241 - accuracy: 0.8269\n",
      "Epoch 55/100\n",
      "321/321 [==============================] - 0s 1ms/step - loss: 0.4176 - accuracy: 0.8223\n",
      "Epoch 56/100\n",
      "321/321 [==============================] - 0s 2ms/step - loss: 0.4192 - accuracy: 0.8216\n",
      "Epoch 57/100\n",
      "321/321 [==============================] - 0s 2ms/step - loss: 0.4199 - accuracy: 0.8221\n",
      "Epoch 58/100\n",
      "321/321 [==============================] - 1s 2ms/step - loss: 0.4274 - accuracy: 0.8225\n",
      "Epoch 59/100\n",
      "321/321 [==============================] - 1s 2ms/step - loss: 0.4395 - accuracy: 0.8222\n",
      "Epoch 60/100\n",
      "321/321 [==============================] - 0s 2ms/step - loss: 0.4050 - accuracy: 0.8270\n",
      "Epoch 61/100\n",
      "321/321 [==============================] - 1s 2ms/step - loss: 0.4260 - accuracy: 0.8293\n",
      "Epoch 62/100\n",
      "321/321 [==============================] - 1s 2ms/step - loss: 0.4256 - accuracy: 0.8284\n",
      "Epoch 63/100\n",
      "321/321 [==============================] - 0s 2ms/step - loss: 0.4236 - accuracy: 0.8276\n",
      "Epoch 64/100\n",
      "321/321 [==============================] - 0s 1ms/step - loss: 0.4168 - accuracy: 0.8242\n",
      "Epoch 65/100\n",
      "321/321 [==============================] - 1s 2ms/step - loss: 0.4249 - accuracy: 0.8201\n",
      "Epoch 66/100\n",
      "321/321 [==============================] - 0s 1ms/step - loss: 0.4114 - accuracy: 0.8223\n",
      "Epoch 67/100\n",
      "321/321 [==============================] - 0s 1ms/step - loss: 0.4218 - accuracy: 0.8207\n",
      "Epoch 68/100\n",
      "321/321 [==============================] - 0s 2ms/step - loss: 0.4105 - accuracy: 0.8304\n",
      "Epoch 69/100\n",
      "321/321 [==============================] - 0s 1ms/step - loss: 0.4202 - accuracy: 0.8259\n",
      "Epoch 70/100\n",
      "321/321 [==============================] - 0s 1ms/step - loss: 0.4065 - accuracy: 0.8236\n",
      "Epoch 71/100\n",
      "321/321 [==============================] - 0s 1ms/step - loss: 0.4045 - accuracy: 0.8221\n",
      "Epoch 72/100\n",
      "321/321 [==============================] - 0s 1ms/step - loss: 0.4205 - accuracy: 0.8216\n",
      "Epoch 73/100\n",
      "321/321 [==============================] - 0s 1ms/step - loss: 0.4146 - accuracy: 0.8228\n",
      "Epoch 74/100\n",
      "321/321 [==============================] - 0s 1ms/step - loss: 0.4114 - accuracy: 0.8216\n",
      "Epoch 75/100\n",
      "321/321 [==============================] - 1s 2ms/step - loss: 0.4127 - accuracy: 0.8261\n",
      "Epoch 76/100\n",
      "321/321 [==============================] - 0s 1ms/step - loss: 0.4092 - accuracy: 0.8279\n",
      "Epoch 77/100\n",
      "321/321 [==============================] - 0s 1ms/step - loss: 0.4109 - accuracy: 0.8211\n",
      "Epoch 78/100\n",
      "321/321 [==============================] - 0s 1ms/step - loss: 0.4060 - accuracy: 0.8211\n",
      "Epoch 79/100\n",
      "321/321 [==============================] - 0s 1ms/step - loss: 0.4016 - accuracy: 0.8309\n",
      "Epoch 80/100\n",
      "321/321 [==============================] - 0s 1ms/step - loss: 0.3935 - accuracy: 0.8346\n",
      "Epoch 81/100\n",
      "321/321 [==============================] - 0s 2ms/step - loss: 0.3970 - accuracy: 0.8383\n",
      "Epoch 82/100\n",
      "321/321 [==============================] - 0s 1ms/step - loss: 0.3868 - accuracy: 0.8396\n",
      "Epoch 83/100\n",
      "321/321 [==============================] - 0s 1ms/step - loss: 0.3823 - accuracy: 0.8477\n",
      "Epoch 84/100\n",
      "321/321 [==============================] - 0s 1ms/step - loss: 0.3843 - accuracy: 0.8476\n",
      "Epoch 85/100\n",
      "321/321 [==============================] - 0s 1ms/step - loss: 0.3896 - accuracy: 0.8533\n",
      "Epoch 86/100\n",
      "321/321 [==============================] - 0s 1ms/step - loss: 0.3779 - accuracy: 0.8634\n",
      "Epoch 87/100\n",
      "321/321 [==============================] - 0s 1ms/step - loss: 0.3782 - accuracy: 0.8647\n",
      "Epoch 88/100\n",
      "321/321 [==============================] - 0s 1ms/step - loss: 0.3676 - accuracy: 0.8718\n",
      "Epoch 89/100\n",
      "321/321 [==============================] - 0s 1ms/step - loss: 0.3720 - accuracy: 0.8740\n",
      "Epoch 90/100\n",
      "321/321 [==============================] - 0s 1ms/step - loss: 0.3570 - accuracy: 0.8805\n",
      "Epoch 91/100\n",
      "321/321 [==============================] - 0s 1ms/step - loss: 0.3702 - accuracy: 0.8744\n",
      "Epoch 92/100\n",
      "321/321 [==============================] - 0s 1ms/step - loss: 0.3779 - accuracy: 0.8788\n",
      "Epoch 93/100\n",
      "321/321 [==============================] - 0s 1ms/step - loss: 0.3631 - accuracy: 0.8844\n",
      "Epoch 94/100\n",
      "321/321 [==============================] - 0s 1ms/step - loss: 0.3751 - accuracy: 0.8831\n",
      "Epoch 95/100\n",
      "321/321 [==============================] - 0s 1ms/step - loss: 0.3629 - accuracy: 0.8848\n",
      "Epoch 96/100\n",
      "321/321 [==============================] - 0s 1ms/step - loss: 0.3593 - accuracy: 0.8843\n",
      "Epoch 97/100\n",
      "321/321 [==============================] - 0s 1ms/step - loss: 0.3495 - accuracy: 0.8900\n",
      "Epoch 98/100\n",
      "321/321 [==============================] - 0s 1ms/step - loss: 0.3481 - accuracy: 0.8914\n",
      "Epoch 99/100\n",
      "321/321 [==============================] - 0s 1ms/step - loss: 0.3600 - accuracy: 0.8960\n",
      "Epoch 100/100\n",
      "321/321 [==============================] - 0s 1ms/step - loss: 0.3456 - accuracy: 0.8990\n"
     ]
    }
   ],
   "source": [
    "history=ann.fit(X_train, y_train_encoded, batch_size = 32, epochs = 100)"
   ]
  },
  {
   "cell_type": "code",
   "execution_count": 162,
   "metadata": {},
   "outputs": [
    {
     "name": "stdout",
     "output_type": "stream",
     "text": [
      "81/81 [==============================] - 0s 867us/step\n",
      "[[8.8679844e-01 3.1071123e-02 8.2130387e-02]\n",
      " [0.0000000e+00 7.9906678e-01 2.0093316e-01]\n",
      " [0.0000000e+00 7.3280287e-01 2.6719710e-01]\n",
      " ...\n",
      " [8.8679844e-01 3.1071123e-02 8.2130387e-02]\n",
      " [1.0169001e-34 9.2188612e-02 9.0781134e-01]\n",
      " [0.0000000e+00 7.2901815e-01 2.7098182e-01]]\n",
      "\n",
      "[0 1 1 ... 0 2 1]\n"
     ]
    }
   ],
   "source": [
    "# Predicting the Test set results\n",
    "y_pred = ann.predict(X_test)\n",
    "\n",
    "print(y_pred)\n",
    "\n",
    "y_pred_class = y_pred.argmax(axis=1)\n",
    "print()\n",
    "print(y_pred_class)\n"
   ]
  },
  {
   "cell_type": "code",
   "execution_count": 163,
   "metadata": {},
   "outputs": [
    {
     "name": "stdout",
     "output_type": "stream",
     "text": [
      "0.9582846003898635\n"
     ]
    }
   ],
   "source": [
    "from sklearn.metrics import accuracy_score\n",
    "\n",
    "print(accuracy_score(y_test,y_pred_class))"
   ]
  },
  {
   "cell_type": "code",
   "execution_count": 164,
   "metadata": {},
   "outputs": [
    {
     "name": "stdout",
     "output_type": "stream",
     "text": [
      "1/1 [==============================] - 0s 34ms/step\n",
      "[0]\n"
     ]
    }
   ],
   "source": [
    "test = ann.predict(sc.transform([[3.5426830286659757e-06,0.24547880116959062,0.3226955560075358]]))\n",
    "print(test.argmax(axis=1))"
   ]
  }
 ],
 "metadata": {
  "kernelspec": {
   "display_name": "Python 3 (ipykernel)",
   "language": "python",
   "name": "python3"
  },
  "language_info": {
   "codemirror_mode": {
    "name": "ipython",
    "version": 3
   },
   "file_extension": ".py",
   "mimetype": "text/x-python",
   "name": "python",
   "nbconvert_exporter": "python",
   "pygments_lexer": "ipython3",
   "version": "3.11.5"
  }
 },
 "nbformat": 4,
 "nbformat_minor": 2
}
