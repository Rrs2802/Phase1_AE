{
 "cells": [
  {
   "cell_type": "code",
   "execution_count": 8,
   "metadata": {},
   "outputs": [],
   "source": [
    "import pandas as pd\n",
    "\n",
    "# Load your three CSV datasets into separate DataFrames\n",
    "df1 = pd.read_csv('C:/Users/hp/Desktop/hip/2nd/new_ds/new_a_c.csv')\n",
    "df2 = pd.read_csv('C:/Users/hp/Desktop/hip/2nd/new_ds/new_c_c.csv')\n",
    "df3 = pd.read_csv('C:/Users/hp/Desktop/hip/2nd/new_ds/new_co_c.csv')\n",
    "\n",
    "# Combine the DataFrames into a single DataFrame\n",
    "combined_df = pd.concat([df1, df2, df3], ignore_index=True)\n",
    "\n",
    "# Add a new column with the value \"cathodic\" for all rows\n",
    "#combined_df['Output'] = 'anodic'\n",
    "\n",
    "# Save the combined DataFrame to a new CSV file\n",
    "combined_df.to_csv('C:/Users/hp/Desktop/hip/2nd/all_combined.csv', index=False)"
   ]
  },
  {
   "cell_type": "code",
   "execution_count": 13,
   "metadata": {},
   "outputs": [
    {
     "name": "stdout",
     "output_type": "stream",
     "text": [
      "Time         45\n",
      "AE Data      45\n",
      "EC Data      45\n",
      "Mech Data    45\n",
      "Output       45\n",
      "dtype: int64\n"
     ]
    }
   ],
   "source": [
    "import numpy as np\n",
    "\n",
    "print(np.isnan(combined_df).sum())"
   ]
  },
  {
   "cell_type": "code",
   "execution_count": 14,
   "metadata": {},
   "outputs": [],
   "source": [
    "df = combined_df.dropna(how='all')"
   ]
  },
  {
   "cell_type": "code",
   "execution_count": 15,
   "metadata": {},
   "outputs": [
    {
     "name": "stdout",
     "output_type": "stream",
     "text": [
      "Time         0\n",
      "AE Data      0\n",
      "EC Data      0\n",
      "Mech Data    0\n",
      "Output       0\n",
      "dtype: int64\n"
     ]
    }
   ],
   "source": [
    "print(np.isnan(df).sum())"
   ]
  },
  {
   "cell_type": "code",
   "execution_count": 17,
   "metadata": {},
   "outputs": [],
   "source": [
    "df.to_csv('C:/Users/hp/Desktop/hip/2nd/all_combined_final.csv',index=False)"
   ]
  },
  {
   "cell_type": "code",
   "execution_count": 18,
   "metadata": {},
   "outputs": [
    {
     "name": "stdout",
     "output_type": "stream",
     "text": [
      "Time         0\n",
      "AE Data      0\n",
      "EC Data      0\n",
      "Mech Data    0\n",
      "Output       0\n",
      "dtype: int64\n"
     ]
    }
   ],
   "source": [
    "fdf = pd.read_csv('C:/Users/hp/Desktop/hip/2nd/all_combined_final.csv')\n",
    "print(np.isnan(fdf).sum())"
   ]
  },
  {
   "cell_type": "code",
   "execution_count": 19,
   "metadata": {},
   "outputs": [
    {
     "name": "stdout",
     "output_type": "stream",
     "text": [
      "Normalization complete. Data saved to C:/Users/hp/Desktop/hip/2nd/normalized_output.csv\n"
     ]
    }
   ],
   "source": [
    "import pandas as pd\n",
    "from sklearn.preprocessing import MinMaxScaler\n",
    "\n",
    "# Read the CSV file into a DataFrame\n",
    "input_file = \"C:/Users/hp/Desktop/hip/2nd/all_combined_final.csv\"\n",
    "output_file = \"C:/Users/hp/Desktop/hip/2nd/normalized_output.csv\"\n",
    "\n",
    "data = pd.read_csv(input_file)\n",
    "\n",
    "# Separate the numeric columns from the string column\n",
    "string_data_0 = data.iloc[:,0]\n",
    "numeric_data = data.iloc[:, 1:4]\n",
    "string_data = data.iloc[:, 4]\n",
    "\n",
    "# Initialize the Min-Max Scaler\n",
    "scaler = MinMaxScaler()\n",
    "\n",
    "# Fit and transform the numeric data\n",
    "normalized_numeric_data = scaler.fit_transform(numeric_data)\n",
    "\n",
    "# Create a DataFrame with the normalized numeric data\n",
    "normalized_df = pd.DataFrame(normalized_numeric_data, columns=numeric_data.columns)\n",
    "\n",
    "# Combine the normalized numeric data with the string data\n",
    "normalized_data = pd.concat([string_data_0,normalized_df, string_data], axis=1)\n",
    "\n",
    "# Save the normalized data to a new CSV file\n",
    "normalized_data.to_csv(output_file, index=False)\n",
    "\n",
    "print(\"Normalization complete. Data saved to\", output_file)"
   ]
  },
  {
   "cell_type": "code",
   "execution_count": 20,
   "metadata": {},
   "outputs": [
    {
     "name": "stdout",
     "output_type": "stream",
     "text": [
      "Time         0\n",
      "AE Data      0\n",
      "EC Data      0\n",
      "Mech Data    0\n",
      "Output       0\n",
      "dtype: int64\n"
     ]
    }
   ],
   "source": [
    "fdf = pd.read_csv('C:/Users/hp/Desktop/hip/2nd/normalized_output.csv')\n",
    "print(np.isnan(fdf).sum())"
   ]
  }
 ],
 "metadata": {
  "kernelspec": {
   "display_name": "Python 3 (ipykernel)",
   "language": "python",
   "name": "python3"
  },
  "language_info": {
   "codemirror_mode": {
    "name": "ipython",
    "version": 3
   },
   "file_extension": ".py",
   "mimetype": "text/x-python",
   "name": "python",
   "nbconvert_exporter": "python",
   "pygments_lexer": "ipython3",
   "version": "3.11.5"
  }
 },
 "nbformat": 4,
 "nbformat_minor": 2
}
