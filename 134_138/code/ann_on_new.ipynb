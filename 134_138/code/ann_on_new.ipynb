{
 "cells": [
  {
   "cell_type": "code",
   "execution_count": 3,
   "metadata": {},
   "outputs": [],
   "source": [
    "# Artificial Neural Network\n",
    "# Importing the libraries\n",
    "import numpy as np\n",
    "import pandas as pd\n",
    "import tensorflow as tf"
   ]
  },
  {
   "cell_type": "code",
   "execution_count": 30,
   "metadata": {},
   "outputs": [
    {
     "name": "stdout",
     "output_type": "stream",
     "text": [
      "[[6.03417399e-05 1.00000000e+00 3.12197607e-01]\n",
      " [6.95018345e-05 5.48813363e-01 3.13973385e-01]\n",
      " [5.96706951e-05 3.88594448e-01 3.17788900e-01]\n",
      " ...\n",
      " [3.85682554e-05 6.86652493e-02 1.09622127e-04]\n",
      " [3.79554529e-05 6.86143861e-02 1.31548372e-03]\n",
      " [1.27424613e-04 6.86143861e-02 0.00000000e+00]]\n",
      "False\n",
      "[0. 0. 0. ... 2. 2. 2.]\n",
      "False\n"
     ]
    }
   ],
   "source": [
    "# Part 1 - Data Preprocessing\n",
    "# Importing the dataset\n",
    "dataset = pd.read_csv(\"C:/Users/4nm20/Desktop/134_138/normalized_output.csv\")\n",
    "\n",
    "X = dataset.iloc[:, 1:-1].values\n",
    "y = dataset.iloc[:, -1].values\n",
    "print(X)\n",
    "print(np.isnan(X).any())\n",
    "print(y)\n",
    "print(np.isnan(y).any())"
   ]
  },
  {
   "cell_type": "code",
   "execution_count": 31,
   "metadata": {},
   "outputs": [
    {
     "name": "stdout",
     "output_type": "stream",
     "text": [
      "[0 0 0 ... 2 2 2]\n"
     ]
    }
   ],
   "source": [
    "# Encoding categorical data\n",
    "# Label Encoding the \"Gender\" column\n",
    "from sklearn.preprocessing import LabelEncoder\n",
    "le = LabelEncoder()\n",
    "y = le.fit_transform(y)\n",
    "print(y)"
   ]
  },
  {
   "cell_type": "code",
   "execution_count": 32,
   "metadata": {},
   "outputs": [],
   "source": [
    "# Splitting the dataset into the Training set and Test set\n",
    "from sklearn.model_selection import train_test_split\n",
    "X_train, X_test, y_train, y_test = train_test_split(X, y, test_size = 0.2, random_state = 15)"
   ]
  },
  {
   "cell_type": "code",
   "execution_count": 33,
   "metadata": {},
   "outputs": [
    {
     "name": "stdout",
     "output_type": "stream",
     "text": [
      "[[1.32674059e-04 7.51757322e-02 2.05417699e-01]\n",
      " [1.45147646e-04 7.51401280e-02 2.01102310e-01]\n",
      " [6.70331047e-01 7.97300184e-02 1.85546086e-01]\n",
      " ...\n",
      " [5.41124016e-05 7.67474034e-02 2.24445895e-01]\n",
      " [6.49953619e-05 8.10300805e-02 8.77627509e-01]\n",
      " [1.41889977e-04 7.63557572e-02 4.50875189e-01]] [1 1 2 ... 1 0 1]\n"
     ]
    }
   ],
   "source": [
    "print(X_train, y_train)"
   ]
  },
  {
   "cell_type": "code",
   "execution_count": 34,
   "metadata": {},
   "outputs": [],
   "source": [
    "# Feature Scaling\n",
    "from sklearn.preprocessing import StandardScaler\n",
    "sc = StandardScaler()\n",
    "X_train = sc.fit_transform(X_train)\n",
    "X_test = sc.transform(X_test)"
   ]
  },
  {
   "cell_type": "code",
   "execution_count": 59,
   "metadata": {},
   "outputs": [],
   "source": [
    "# Part 2 - Building the ANN\n",
    "# Initializing the ANN\n",
    "ann = tf.keras.models.Sequential()\n",
    "# Adding the input layer and the first hidden layer\n",
    "ann.add(tf.keras.layers.Dense(units=6, activation='relu'))\n",
    "ann.add(tf.keras.layers.Dropout(0.5))\n",
    "# Adding the second hidden layer\n",
    "ann.add(tf.keras.layers.Dense(units=6, activation='relu'))\n",
    "# Adding the second hidden layer\n",
    "ann.add(tf.keras.layers.Dense(units=6, activation='relu'))\n",
    "# # Adding the second hidden layer\n",
    "ann.add(tf.keras.layers.Dense(units=6, activation='relu'))\n",
    "# # Adding the second hidden layer\n",
    "ann.add(tf.keras.layers.Dense(units=6, activation='relu'))\n",
    "ann.add(tf.keras.layers.Dropout(0.5))\n",
    "# Adding the output layer\n",
    "ann.add(tf.keras.layers.Dense(units=3, activation='softmax'))"
   ]
  },
  {
   "cell_type": "code",
   "execution_count": 60,
   "metadata": {},
   "outputs": [
    {
     "name": "stdout",
     "output_type": "stream",
     "text": [
      "[1 1 2 ... 1 0 1]\n",
      "[[0. 1. 0.]\n",
      " [0. 1. 0.]\n",
      " [0. 0. 1.]\n",
      " ...\n",
      " [0. 1. 0.]\n",
      " [1. 0. 0.]\n",
      " [0. 1. 0.]]\n"
     ]
    }
   ],
   "source": [
    "from tensorflow.keras.utils import to_categorical\n",
    "\n",
    "y_train_encoded = to_categorical(y_train, num_classes=3)\n",
    "print(y_train)\n",
    "print(y_train_encoded)"
   ]
  },
  {
   "cell_type": "code",
   "execution_count": 61,
   "metadata": {},
   "outputs": [],
   "source": [
    "ann.compile(optimizer='sgd', loss='categorical_crossentropy', metrics=['accuracy'])"
   ]
  },
  {
   "cell_type": "code",
   "execution_count": 63,
   "metadata": {},
   "outputs": [
    {
     "name": "stdout",
     "output_type": "stream",
     "text": [
      "Epoch 1/40\n",
      "161/161 [==============================] - 1s 4ms/step - loss: 0.7583 - accuracy: 0.5942\n",
      "Epoch 2/40\n",
      "161/161 [==============================] - 1s 4ms/step - loss: 0.7680 - accuracy: 0.5892\n",
      "Epoch 3/40\n",
      "161/161 [==============================] - 1s 4ms/step - loss: 0.7579 - accuracy: 0.5888\n",
      "Epoch 4/40\n",
      "161/161 [==============================] - 1s 4ms/step - loss: 0.7509 - accuracy: 0.5920\n",
      "Epoch 5/40\n",
      "161/161 [==============================] - 1s 4ms/step - loss: 0.7518 - accuracy: 0.5916\n",
      "Epoch 6/40\n",
      "161/161 [==============================] - 1s 3ms/step - loss: 0.7506 - accuracy: 0.5937\n",
      "Epoch 7/40\n",
      "161/161 [==============================] - 1s 4ms/step - loss: 0.7515 - accuracy: 0.5927\n",
      "Epoch 8/40\n",
      "161/161 [==============================] - 1s 3ms/step - loss: 0.7467 - accuracy: 0.5965\n",
      "Epoch 9/40\n",
      "161/161 [==============================] - 1s 4ms/step - loss: 0.7407 - accuracy: 0.5996\n",
      "Epoch 10/40\n",
      "161/161 [==============================] - 1s 3ms/step - loss: 0.7390 - accuracy: 0.5993\n",
      "Epoch 11/40\n",
      "161/161 [==============================] - 1s 4ms/step - loss: 0.7411 - accuracy: 0.5981\n",
      "Epoch 12/40\n",
      "161/161 [==============================] - 1s 3ms/step - loss: 0.7390 - accuracy: 0.5996\n",
      "Epoch 13/40\n",
      "161/161 [==============================] - 1s 4ms/step - loss: 0.7353 - accuracy: 0.6009\n",
      "Epoch 14/40\n",
      "161/161 [==============================] - 1s 4ms/step - loss: 0.7317 - accuracy: 0.6059\n",
      "Epoch 15/40\n",
      "161/161 [==============================] - 1s 4ms/step - loss: 0.7339 - accuracy: 0.6009\n",
      "Epoch 16/40\n",
      "161/161 [==============================] - 1s 3ms/step - loss: 0.7362 - accuracy: 0.6025\n",
      "Epoch 17/40\n",
      "161/161 [==============================] - 1s 3ms/step - loss: 0.7265 - accuracy: 0.6070\n",
      "Epoch 18/40\n",
      "161/161 [==============================] - 1s 4ms/step - loss: 0.7251 - accuracy: 0.6088\n",
      "Epoch 19/40\n",
      "161/161 [==============================] - 1s 4ms/step - loss: 0.7291 - accuracy: 0.5993\n",
      "Epoch 20/40\n",
      "161/161 [==============================] - 1s 4ms/step - loss: 0.7298 - accuracy: 0.5985\n",
      "Epoch 21/40\n",
      "161/161 [==============================] - 1s 4ms/step - loss: 0.7254 - accuracy: 0.6051\n",
      "Epoch 22/40\n",
      "161/161 [==============================] - 1s 4ms/step - loss: 0.7259 - accuracy: 0.6099\n",
      "Epoch 23/40\n",
      "161/161 [==============================] - 1s 3ms/step - loss: 0.7252 - accuracy: 0.6095\n",
      "Epoch 24/40\n",
      "161/161 [==============================] - 1s 4ms/step - loss: 0.7253 - accuracy: 0.6098\n",
      "Epoch 25/40\n",
      "161/161 [==============================] - 1s 4ms/step - loss: 0.7160 - accuracy: 0.6145\n",
      "Epoch 26/40\n",
      "161/161 [==============================] - 1s 3ms/step - loss: 0.7138 - accuracy: 0.6152\n",
      "Epoch 27/40\n",
      "161/161 [==============================] - 1s 3ms/step - loss: 0.7134 - accuracy: 0.6102\n",
      "Epoch 28/40\n",
      "161/161 [==============================] - 1s 4ms/step - loss: 0.7077 - accuracy: 0.6230\n",
      "Epoch 29/40\n",
      "161/161 [==============================] - 1s 4ms/step - loss: 0.7081 - accuracy: 0.6165\n",
      "Epoch 30/40\n",
      "161/161 [==============================] - 1s 4ms/step - loss: 0.7006 - accuracy: 0.6236\n",
      "Epoch 31/40\n",
      "161/161 [==============================] - 1s 3ms/step - loss: 0.7017 - accuracy: 0.6181\n",
      "Epoch 32/40\n",
      "161/161 [==============================] - 1s 3ms/step - loss: 0.7067 - accuracy: 0.6223\n",
      "Epoch 33/40\n",
      "161/161 [==============================] - 1s 3ms/step - loss: 0.7094 - accuracy: 0.6201\n",
      "Epoch 34/40\n",
      "161/161 [==============================] - 1s 4ms/step - loss: 0.6952 - accuracy: 0.6267\n",
      "Epoch 35/40\n",
      "161/161 [==============================] - 1s 4ms/step - loss: 0.6976 - accuracy: 0.6244\n",
      "Epoch 36/40\n",
      "161/161 [==============================] - 1s 4ms/step - loss: 0.6894 - accuracy: 0.6280\n",
      "Epoch 37/40\n",
      "161/161 [==============================] - 1s 4ms/step - loss: 0.6999 - accuracy: 0.6255\n",
      "Epoch 38/40\n",
      "161/161 [==============================] - 1s 3ms/step - loss: 0.6883 - accuracy: 0.6312\n",
      "Epoch 39/40\n",
      "161/161 [==============================] - 1s 3ms/step - loss: 0.7074 - accuracy: 0.6252\n",
      "Epoch 40/40\n",
      "161/161 [==============================] - 1s 3ms/step - loss: 0.6950 - accuracy: 0.6229\n"
     ]
    }
   ],
   "source": [
    "history=ann.fit(X_train, y_train_encoded, batch_size = 64, epochs = 40)"
   ]
  },
  {
   "cell_type": "code",
   "execution_count": 64,
   "metadata": {},
   "outputs": [
    {
     "name": "stdout",
     "output_type": "stream",
     "text": [
      "81/81 [==============================] - 0s 3ms/step\n",
      "[[7.4835807e-01 1.4777622e-01 1.0386566e-01]\n",
      " [7.6902052e-04 5.2567554e-01 4.7355545e-01]\n",
      " [1.3731534e-03 5.2988476e-01 4.6874213e-01]\n",
      " ...\n",
      " [7.4835807e-01 1.4777622e-01 1.0386566e-01]\n",
      " [7.4909702e-03 5.3921026e-01 4.5329872e-01]\n",
      " [5.3851766e-04 5.2324283e-01 4.7621873e-01]]\n",
      "\n",
      "[0 1 1 ... 0 1 1]\n"
     ]
    }
   ],
   "source": [
    "# Predicting the Test set results\n",
    "y_pred = ann.predict(X_test)\n",
    "\n",
    "print(y_pred)\n",
    "\n",
    "y_pred_class = y_pred.argmax(axis=1)\n",
    "print()\n",
    "print(y_pred_class)\n"
   ]
  },
  {
   "cell_type": "code",
   "execution_count": 51,
   "metadata": {},
   "outputs": [
    {
     "name": "stdout",
     "output_type": "stream",
     "text": [
      "0.9937621832358674\n"
     ]
    }
   ],
   "source": [
    "from sklearn.metrics import accuracy_score\n",
    "\n",
    "print(accuracy_score(y_test,y_pred_class))"
   ]
  },
  {
   "cell_type": "code",
   "execution_count": 52,
   "metadata": {},
   "outputs": [
    {
     "name": "stdout",
     "output_type": "stream",
     "text": [
      "1/1 [==============================] - 0s 41ms/step\n",
      "[0]\n"
     ]
    }
   ],
   "source": [
    "test = ann.predict(sc.transform([[3.5426830286659757e-06,0.24547880116959062,0.3226955560075358]]))\n",
    "print(test.argmax(axis=1))"
   ]
  },
  {
   "cell_type": "code",
   "execution_count": 53,
   "metadata": {},
   "outputs": [
    {
     "name": "stdout",
     "output_type": "stream",
     "text": [
      "1/1 [==============================] - 0s 37ms/step\n",
      "[0]\n"
     ]
    }
   ],
   "source": [
    "test = ann.predict(sc.transform([[8.925958444735739e-06,0.4325036549707602,0.3262577476893473]]))\n",
    "print(test.argmax(axis=1))"
   ]
  },
  {
   "cell_type": "code",
   "execution_count": 54,
   "metadata": {},
   "outputs": [
    {
     "name": "stdout",
     "output_type": "stream",
     "text": [
      "1/1 [==============================] - 0s 34ms/step\n",
      "[[1.0000000e+00 1.8940977e-26 4.3107651e-14]]\n",
      "[0]\n"
     ]
    }
   ],
   "source": [
    "test = ann.predict(sc.transform([[9.90156822887783e-06,0.12960745614035085,0.2034841174904795]]))\n",
    "print(test)\n",
    "print(test.argmax(axis=1))"
   ]
  },
  {
   "cell_type": "code",
   "execution_count": null,
   "metadata": {},
   "outputs": [],
   "source": []
  }
 ],
 "metadata": {
  "kernelspec": {
   "display_name": "Python 3 (ipykernel)",
   "language": "python",
   "name": "python3"
  },
  "language_info": {
   "codemirror_mode": {
    "name": "ipython",
    "version": 3
   },
   "file_extension": ".py",
   "mimetype": "text/x-python",
   "name": "python",
   "nbconvert_exporter": "python",
   "pygments_lexer": "ipython3",
   "version": "3.11.5"
  }
 },
 "nbformat": 4,
 "nbformat_minor": 2
}
