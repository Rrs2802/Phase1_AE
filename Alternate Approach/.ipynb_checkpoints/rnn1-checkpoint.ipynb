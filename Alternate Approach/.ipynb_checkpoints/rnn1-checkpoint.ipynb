{
 "cells": [
  {
   "cell_type": "code",
   "execution_count": null,
   "metadata": {},
   "outputs": [],
   "source": [
    "import numpy as np\n",
    "import pandas as pd\n",
    "import tensorflow as tf\n",
    "from keras.models import Sequential\n",
    "from keras.layers import SimpleRNN, Dense\n",
    "\n",
    "# Importing the dataset\n",
    "dataset = pd.read_csv(r'C:/Users/4nm20/Desktop/Alternate Approach/new_normalized_output.csv')\n",
    "X = dataset.iloc[:, :-1].values\n",
    "y = dataset.iloc[:, -1].values\n",
    "num_features = X.shape[1]\n",
    "print(\"Number of features:\", num_features)\n",
    "print(X)"
   ]
  },
  {
   "cell_type": "code",
   "execution_count": 207,
   "metadata": {},
   "outputs": [
    {
     "name": "stdout",
     "output_type": "stream",
     "text": [
      "[0 0 0 ... 2 2 2]\n"
     ]
    }
   ],
   "source": [
    "from sklearn.preprocessing import LabelEncoder\n",
    "le = LabelEncoder()\n",
    "y = le.fit_transform(y)\n",
    "print(y)"
   ]
  },
  {
   "cell_type": "code",
   "execution_count": 211,
   "metadata": {},
   "outputs": [],
   "source": [
    "from sklearn.model_selection import train_test_split\n",
    "X_train, X_test, y_train, y_test = train_test_split(X, y, test_size = 0.2, random_state = 4)\n",
    "\n",
    "#print(X_train, y_train)\n",
    "\n",
    "# Feature Scaling\n",
    "from sklearn.preprocessing import StandardScaler\n",
    "sc = StandardScaler()\n",
    "X_train = sc.fit_transform(X_train)\n",
    "X_test = sc.transform(X_test)"
   ]
  },
  {
   "cell_type": "code",
   "execution_count": 212,
   "metadata": {},
   "outputs": [],
   "source": [
    "time_sequence_length = 4\n",
    "X_train_rnn = []\n",
    "y_train_rnn = []\n",
    "\n",
    "for i in range(time_sequence_length, len(X_train)):\n",
    "    X_train_rnn.append(X_train[i - time_sequence_length:i, :])\n",
    "    y_train_rnn.append(y_train[i])\n",
    "\n",
    "X_train_rnn, y_train_rnn = np.array(X_train_rnn), np.array(y_train_rnn)"
   ]
  },
  {
   "cell_type": "code",
   "execution_count": 213,
   "metadata": {},
   "outputs": [
    {
     "name": "stdout",
     "output_type": "stream",
     "text": [
      "[1 2 1 ... 2 1 0]\n"
     ]
    }
   ],
   "source": [
    "time_sequence_length = 4\n",
    "X_test_rnn = []\n",
    "y_test_rnn = []\n",
    "\n",
    "for i in range(time_sequence_length, len(X_test)):\n",
    "    X_test_rnn.append(X_test[i - time_sequence_length:i, :])\n",
    "    y_test_rnn.append(y_test[i])\n",
    "\n",
    "X_test_rnn, y_test_rnn = np.array(X_test_rnn), np.array(y_test_rnn)\n",
    "print(y_train_rnn)"
   ]
  },
  {
   "cell_type": "code",
   "execution_count": 214,
   "metadata": {},
   "outputs": [],
   "source": [
    "model = Sequential()\n",
    "model.add(SimpleRNN(units=128, activation='relu', input_shape=(X_train_rnn.shape[1], X_train_rnn.shape[2])))\n",
    "#model.add(SimpleRNN(units=128, activation='relu', input_shape=(X_train_rnn.shape[1], X_train_rnn.shape[2])))\n",
    "model.add(Dense(units=3, activation='softmax'))\n",
    "#model.add(tf.keras.layers.Dropout(0.5))\n"
   ]
  },
  {
   "cell_type": "code",
   "execution_count": 215,
   "metadata": {},
   "outputs": [
    {
     "data": {
      "text/plain": [
       "array([[0., 1., 0.],\n",
       "       [0., 0., 1.],\n",
       "       [0., 1., 0.],\n",
       "       ...,\n",
       "       [0., 0., 1.],\n",
       "       [0., 1., 0.],\n",
       "       [1., 0., 0.]], dtype=float32)"
      ]
     },
     "metadata": {},
     "output_type": "display_data"
    },
    {
     "name": "stdout",
     "output_type": "stream",
     "text": [
      "[1 2 2 ... 2 1 0]\n"
     ]
    },
    {
     "data": {
      "text/plain": [
       "'# Number of unique values in the original array\\nnum_classes = len(np.unique(y_train_rnn))\\nprint(num_classes)\\n\\n# Create a one-hot encoding of the original array\\none_hot_encoding = np.eye(num_classes)[y_train]\\n\\n# Print the one-hot encoding\\nprint(one_hot_encoding)'"
      ]
     },
     "execution_count": 215,
     "metadata": {},
     "output_type": "execute_result"
    }
   ],
   "source": [
    "from keras.utils import to_categorical\n",
    "\n",
    "# Assuming your original labels are in y_train_rnn\n",
    "y_train_rnn_encoded = to_categorical(y_train_rnn, num_classes=3)\n",
    "display(y_train_rnn_encoded)\n",
    "print(y_train)\n",
    "\n",
    "\n",
    "\"\"\"# Number of unique values in the original array\n",
    "num_classes = len(np.unique(y_train_rnn))\n",
    "print(num_classes)\n",
    "\n",
    "# Create a one-hot encoding of the original array\n",
    "one_hot_encoding = np.eye(num_classes)[y_train]\n",
    "\n",
    "# Print the one-hot encoding\n",
    "print(one_hot_encoding)\"\"\""
   ]
  },
  {
   "cell_type": "code",
   "execution_count": 272,
   "metadata": {},
   "outputs": [
    {
     "name": "stdout",
     "output_type": "stream",
     "text": [
      "Epoch 1/20\n",
      "643/643 [==============================] - 8s 6ms/step - loss: 0.6684 - accuracy: 0.7084\n",
      "Epoch 2/20\n",
      "643/643 [==============================] - 4s 6ms/step - loss: 0.6708 - accuracy: 0.7086\n",
      "Epoch 3/20\n",
      "643/643 [==============================] - 4s 6ms/step - loss: 0.6768 - accuracy: 0.7085\n",
      "Epoch 4/20\n",
      "643/643 [==============================] - 4s 6ms/step - loss: 0.6778 - accuracy: 0.7094\n",
      "Epoch 5/20\n",
      "643/643 [==============================] - 4s 6ms/step - loss: 0.7031 - accuracy: 0.7014\n",
      "Epoch 6/20\n",
      "643/643 [==============================] - 4s 6ms/step - loss: 0.6789 - accuracy: 0.7056\n",
      "Epoch 7/20\n",
      "643/643 [==============================] - 4s 7ms/step - loss: 0.6747 - accuracy: 0.7081\n",
      "Epoch 8/20\n",
      "643/643 [==============================] - 4s 6ms/step - loss: 0.6466 - accuracy: 0.7173\n",
      "Epoch 9/20\n",
      "643/643 [==============================] - 4s 6ms/step - loss: 0.6481 - accuracy: 0.7186\n",
      "Epoch 10/20\n",
      "643/643 [==============================] - 4s 6ms/step - loss: 0.6495 - accuracy: 0.7197\n",
      "Epoch 11/20\n",
      "643/643 [==============================] - 4s 6ms/step - loss: 0.6486 - accuracy: 0.7222\n",
      "Epoch 12/20\n",
      "643/643 [==============================] - 4s 6ms/step - loss: 0.6613 - accuracy: 0.7139\n",
      "Epoch 13/20\n",
      "643/643 [==============================] - 4s 6ms/step - loss: 0.6602 - accuracy: 0.7136\n",
      "Epoch 14/20\n",
      "643/643 [==============================] - 4s 6ms/step - loss: 0.6591 - accuracy: 0.7158\n",
      "Epoch 15/20\n",
      "643/643 [==============================] - 4s 6ms/step - loss: 0.6593 - accuracy: 0.7216\n",
      "Epoch 16/20\n",
      "643/643 [==============================] - 4s 6ms/step - loss: 0.6511 - accuracy: 0.7197\n",
      "Epoch 17/20\n",
      "643/643 [==============================] - 4s 6ms/step - loss: 0.6783 - accuracy: 0.7163\n",
      "Epoch 18/20\n",
      "643/643 [==============================] - 4s 6ms/step - loss: 0.6358 - accuracy: 0.7249\n",
      "Epoch 19/20\n",
      "643/643 [==============================] - 4s 6ms/step - loss: 0.6410 - accuracy: 0.7238\n",
      "Epoch 20/20\n",
      "643/643 [==============================] - 4s 6ms/step - loss: 0.6316 - accuracy: 0.7278\n"
     ]
    }
   ],
   "source": [
    "model.compile(optimizer='sgd', loss='categorical_crossentropy', metrics=['accuracy'])\n",
    "history = model.fit(X_train_rnn, y_train_rnn_encoded, batch_size=16, epochs=20)"
   ]
  },
  {
   "cell_type": "code",
   "execution_count": 283,
   "metadata": {},
   "outputs": [
    {
     "ename": "ValueError",
     "evalue": "in user code:\n\n    File \"c:\\Users\\Admin\\AppData\\Local\\Programs\\Python\\Python311\\Lib\\site-packages\\keras\\src\\engine\\training.py\", line 2416, in predict_function  *\n        return step_function(self, iterator)\n    File \"c:\\Users\\Admin\\AppData\\Local\\Programs\\Python\\Python311\\Lib\\site-packages\\keras\\src\\engine\\training.py\", line 2401, in step_function  **\n        outputs = model.distribute_strategy.run(run_step, args=(data,))\n    File \"c:\\Users\\Admin\\AppData\\Local\\Programs\\Python\\Python311\\Lib\\site-packages\\keras\\src\\engine\\training.py\", line 2389, in run_step  **\n        outputs = model.predict_step(data)\n    File \"c:\\Users\\Admin\\AppData\\Local\\Programs\\Python\\Python311\\Lib\\site-packages\\keras\\src\\engine\\training.py\", line 2357, in predict_step\n        return self(x, training=False)\n    File \"c:\\Users\\Admin\\AppData\\Local\\Programs\\Python\\Python311\\Lib\\site-packages\\keras\\src\\utils\\traceback_utils.py\", line 70, in error_handler\n        raise e.with_traceback(filtered_tb) from None\n    File \"c:\\Users\\Admin\\AppData\\Local\\Programs\\Python\\Python311\\Lib\\site-packages\\keras\\src\\engine\\input_spec.py\", line 298, in assert_input_compatibility\n        raise ValueError(\n\n    ValueError: Input 0 of layer \"sequential_33\" is incompatible with the layer: expected shape=(None, 4, 4), found shape=(None, 1, 4)\n",
     "output_type": "error",
     "traceback": [
      "\u001b[1;31m---------------------------------------------------------------------------\u001b[0m",
      "\u001b[1;31mValueError\u001b[0m                                Traceback (most recent call last)",
      "\u001b[1;32mc:\\Users\\Admin\\Desktop\\MAJOR PROJECT\\rnn1.ipynb Cell 9\u001b[0m line \u001b[0;36m7\n\u001b[0;32m      <a href='vscode-notebook-cell:/c%3A/Users/Admin/Desktop/MAJOR%20PROJECT/rnn1.ipynb#X10sZmlsZQ%3D%3D?line=4'>5</a>\u001b[0m sample_sequence \u001b[39m=\u001b[39m sample_data\u001b[39m.\u001b[39mreshape(\u001b[39m1\u001b[39m, \u001b[39m1\u001b[39m, \u001b[39m4\u001b[39m)  \u001b[39m# 1 sample, sequence length of 10, and 3 attributes\u001b[39;00m\n\u001b[0;32m      <a href='vscode-notebook-cell:/c%3A/Users/Admin/Desktop/MAJOR%20PROJECT/rnn1.ipynb#X10sZmlsZQ%3D%3D?line=5'>6</a>\u001b[0m \u001b[39m# Make predictions\u001b[39;00m\n\u001b[1;32m----> <a href='vscode-notebook-cell:/c%3A/Users/Admin/Desktop/MAJOR%20PROJECT/rnn1.ipynb#X10sZmlsZQ%3D%3D?line=6'>7</a>\u001b[0m predictions \u001b[39m=\u001b[39m model\u001b[39m.\u001b[39;49mpredict(sample_sequence)\n\u001b[0;32m      <a href='vscode-notebook-cell:/c%3A/Users/Admin/Desktop/MAJOR%20PROJECT/rnn1.ipynb#X10sZmlsZQ%3D%3D?line=7'>8</a>\u001b[0m \u001b[39m#print(predictions)\u001b[39;00m\n\u001b[0;32m     <a href='vscode-notebook-cell:/c%3A/Users/Admin/Desktop/MAJOR%20PROJECT/rnn1.ipynb#X10sZmlsZQ%3D%3D?line=9'>10</a>\u001b[0m predicted_class_index \u001b[39m=\u001b[39m np\u001b[39m.\u001b[39margmax(predictions)\n",
      "File \u001b[1;32mc:\\Users\\Admin\\AppData\\Local\\Programs\\Python\\Python311\\Lib\\site-packages\\keras\\src\\utils\\traceback_utils.py:70\u001b[0m, in \u001b[0;36mfilter_traceback.<locals>.error_handler\u001b[1;34m(*args, **kwargs)\u001b[0m\n\u001b[0;32m     67\u001b[0m     filtered_tb \u001b[39m=\u001b[39m _process_traceback_frames(e\u001b[39m.\u001b[39m__traceback__)\n\u001b[0;32m     68\u001b[0m     \u001b[39m# To get the full stack trace, call:\u001b[39;00m\n\u001b[0;32m     69\u001b[0m     \u001b[39m# `tf.debugging.disable_traceback_filtering()`\u001b[39;00m\n\u001b[1;32m---> 70\u001b[0m     \u001b[39mraise\u001b[39;00m e\u001b[39m.\u001b[39mwith_traceback(filtered_tb) \u001b[39mfrom\u001b[39;00m \u001b[39mNone\u001b[39;00m\n\u001b[0;32m     71\u001b[0m \u001b[39mfinally\u001b[39;00m:\n\u001b[0;32m     72\u001b[0m     \u001b[39mdel\u001b[39;00m filtered_tb\n",
      "File \u001b[1;32m~\\AppData\\Local\\Temp\\__autograph_generated_file7ryj0rh3.py:15\u001b[0m, in \u001b[0;36mouter_factory.<locals>.inner_factory.<locals>.tf__predict_function\u001b[1;34m(iterator)\u001b[0m\n\u001b[0;32m     13\u001b[0m \u001b[39mtry\u001b[39;00m:\n\u001b[0;32m     14\u001b[0m     do_return \u001b[39m=\u001b[39m \u001b[39mTrue\u001b[39;00m\n\u001b[1;32m---> 15\u001b[0m     retval_ \u001b[39m=\u001b[39m ag__\u001b[39m.\u001b[39mconverted_call(ag__\u001b[39m.\u001b[39mld(step_function), (ag__\u001b[39m.\u001b[39mld(\u001b[39mself\u001b[39m), ag__\u001b[39m.\u001b[39mld(iterator)), \u001b[39mNone\u001b[39;00m, fscope)\n\u001b[0;32m     16\u001b[0m \u001b[39mexcept\u001b[39;00m:\n\u001b[0;32m     17\u001b[0m     do_return \u001b[39m=\u001b[39m \u001b[39mFalse\u001b[39;00m\n",
      "\u001b[1;31mValueError\u001b[0m: in user code:\n\n    File \"c:\\Users\\Admin\\AppData\\Local\\Programs\\Python\\Python311\\Lib\\site-packages\\keras\\src\\engine\\training.py\", line 2416, in predict_function  *\n        return step_function(self, iterator)\n    File \"c:\\Users\\Admin\\AppData\\Local\\Programs\\Python\\Python311\\Lib\\site-packages\\keras\\src\\engine\\training.py\", line 2401, in step_function  **\n        outputs = model.distribute_strategy.run(run_step, args=(data,))\n    File \"c:\\Users\\Admin\\AppData\\Local\\Programs\\Python\\Python311\\Lib\\site-packages\\keras\\src\\engine\\training.py\", line 2389, in run_step  **\n        outputs = model.predict_step(data)\n    File \"c:\\Users\\Admin\\AppData\\Local\\Programs\\Python\\Python311\\Lib\\site-packages\\keras\\src\\engine\\training.py\", line 2357, in predict_step\n        return self(x, training=False)\n    File \"c:\\Users\\Admin\\AppData\\Local\\Programs\\Python\\Python311\\Lib\\site-packages\\keras\\src\\utils\\traceback_utils.py\", line 70, in error_handler\n        raise e.with_traceback(filtered_tb) from None\n    File \"c:\\Users\\Admin\\AppData\\Local\\Programs\\Python\\Python311\\Lib\\site-packages\\keras\\src\\engine\\input_spec.py\", line 298, in assert_input_compatibility\n        raise ValueError(\n\n    ValueError: Input 0 of layer \"sequential_33\" is incompatible with the layer: expected shape=(None, 4, 4), found shape=(None, 1, 4)\n"
     ]
    }
   ],
   "source": [
    "sample_data = np.array(sc.transform([[0.0396286231884058,0.00012308575798723747,0.0754909435372712,0.1734845978730187]]))\n",
    "# Create a sequence of 10 identical data points (assuming all attributes have the same value)\n",
    "sample_sequence = np.array([sample_data] * 4)\n",
    "# Reshape the sample data to match the input shape\n",
    "sample_sequence = sample_data.reshape(1, 1, 4)  # 1 sample, sequence length of 10, and 3 attributes\n",
    "# Make predictions\n",
    "predictions = model.predict(sample_sequence)\n",
    "#print(predictions)\n",
    "\n",
    "predicted_class_index = np.argmax(predictions)\n",
    "predicted_class = predicted_class_index\n",
    "print(predicted_class)"
   ]
  },
  {
   "cell_type": "code",
   "execution_count": 194,
   "metadata": {},
   "outputs": [
    {
     "name": "stdout",
     "output_type": "stream",
     "text": [
      "81/81 [==============================] - 0s 5ms/step\n",
      "470\n"
     ]
    }
   ],
   "source": [
    "y_pred = model.predict(X_test_rnn)\n",
    "#print(y_pred)\n",
    "predicted_class_index = np.argmax(y_pred)\n",
    "predicted_class = predicted_class_index\n",
    "print(predicted_class)"
   ]
  }
 ],
 "metadata": {
  "kernelspec": {
   "display_name": "Python 3 (ipykernel)",
   "language": "python",
   "name": "python3"
  },
  "language_info": {
   "codemirror_mode": {
    "name": "ipython",
    "version": 3
   },
   "file_extension": ".py",
   "mimetype": "text/x-python",
   "name": "python",
   "nbconvert_exporter": "python",
   "pygments_lexer": "ipython3",
   "version": "3.11.5"
  }
 },
 "nbformat": 4,
 "nbformat_minor": 2
}
