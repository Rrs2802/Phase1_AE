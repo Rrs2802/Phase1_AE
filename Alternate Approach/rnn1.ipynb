{
 "cells": [
  {
   "cell_type": "code",
   "execution_count": 83,
   "metadata": {},
   "outputs": [
    {
     "name": "stdout",
     "output_type": "stream",
     "text": [
      "Number of features: 4\n",
      "[[0.00000000e+00 6.01902098e-05 1.00000000e+00 3.12591682e-01]\n",
      " [2.26449275e-04 6.95178276e-05 5.48676711e-01 3.14064430e-01]\n",
      " [4.52898551e-04 5.98924965e-05 3.91313184e-01 3.18715504e-01]\n",
      " ...\n",
      " [9.99547101e-01 3.81637043e-05 6.91692476e-02 7.13452354e-04]\n",
      " [9.99773551e-01 8.24844739e-05 6.91438305e-02 6.58572104e-04]\n",
      " [1.00000000e+00 1.27110904e-04 6.91438305e-02 0.00000000e+00]]\n"
     ]
    }
   ],
   "source": [
    "import numpy as np\n",
    "import pandas as pd\n",
    "import tensorflow as tf\n",
    "from keras.models import Sequential\n",
    "from keras.layers import SimpleRNN, Dense\n",
    "\n",
    "# Importing the dataset\n",
    "dataset = pd.read_csv(r'C:/Users/4nm20/Desktop/Alternate Approach/new_normalized_output.csv')\n",
    "X = dataset.iloc[:, :-1].values\n",
    "y = dataset.iloc[:, -1].values\n",
    "num_features = X.shape[1]\n",
    "print(\"Number of features:\",num_features)\n",
    "print(X)"
   ]
  },
  {
   "cell_type": "code",
   "execution_count": 84,
   "metadata": {},
   "outputs": [
    {
     "name": "stdout",
     "output_type": "stream",
     "text": [
      "[0 0 0 ... 2 2 2]\n"
     ]
    }
   ],
   "source": [
    "from sklearn.preprocessing import LabelEncoder\n",
    "le = LabelEncoder()\n",
    "y = le.fit_transform(y)\n",
    "print(y)"
   ]
  },
  {
   "cell_type": "code",
   "execution_count": 85,
   "metadata": {},
   "outputs": [],
   "source": [
    "from sklearn.model_selection import train_test_split\n",
    "X_train, X_test, y_train, y_test = train_test_split(X, y, test_size = 0.2, random_state = 4)\n",
    "\n",
    "#print(X_train, y_train)\n",
    "\n",
    "# Feature Scaling\n",
    "from sklearn.preprocessing import StandardScaler\n",
    "sc = StandardScaler()\n",
    "X_train = sc.fit_transform(X_train)\n",
    "X_test = sc.transform(X_test)"
   ]
  },
  {
   "cell_type": "code",
   "execution_count": 86,
   "metadata": {},
   "outputs": [],
   "source": [
    "time_sequence_length = 4\n",
    "X_train_rnn = []\n",
    "y_train_rnn = []\n",
    "\n",
    "for i in range(time_sequence_length, len(X_train)):\n",
    "    X_train_rnn.append(X_train[i - time_sequence_length:i, :])\n",
    "    y_train_rnn.append(y_train[i])\n",
    "\n",
    "X_train_rnn, y_train_rnn = np.array(X_train_rnn), np.array(y_train_rnn)"
   ]
  },
  {
   "cell_type": "code",
   "execution_count": 87,
   "metadata": {},
   "outputs": [
    {
     "name": "stdout",
     "output_type": "stream",
     "text": [
      "[1 2 1 ... 2 1 0]\n"
     ]
    }
   ],
   "source": [
    "time_sequence_length = 4\n",
    "X_test_rnn = []\n",
    "y_test_rnn = []\n",
    "\n",
    "for i in range(time_sequence_length, len(X_test)):\n",
    "    X_test_rnn.append(X_test[i - time_sequence_length:i, :])\n",
    "    y_test_rnn.append(y_test[i])\n",
    "\n",
    "X_test_rnn, y_test_rnn = np.array(X_test_rnn), np.array(y_test_rnn)\n",
    "print(y_train_rnn)"
   ]
  },
  {
   "cell_type": "code",
   "execution_count": 92,
   "metadata": {},
   "outputs": [],
   "source": [
    "model = Sequential()\n",
    "model.add(SimpleRNN(units=128, activation='relu', input_shape=(X_train_rnn.shape[1], X_train_rnn.shape[2])))\n",
    "#model.add(SimpleRNN(units=128, activation='relu', input_shape=(X_train_rnn.shape[1], X_train_rnn.shape[2])))\n",
    "model.add(tf.keras.layers.Dropout(0.5))\n",
    "model.add(Dense(units=3, activation='softmax'))\n",
    "\n"
   ]
  },
  {
   "cell_type": "code",
   "execution_count": 93,
   "metadata": {},
   "outputs": [
    {
     "data": {
      "text/plain": [
       "array([[0., 1., 0.],\n",
       "       [0., 0., 1.],\n",
       "       [0., 1., 0.],\n",
       "       ...,\n",
       "       [0., 0., 1.],\n",
       "       [0., 1., 0.],\n",
       "       [1., 0., 0.]], dtype=float32)"
      ]
     },
     "metadata": {},
     "output_type": "display_data"
    },
    {
     "name": "stdout",
     "output_type": "stream",
     "text": [
      "[1 2 2 ... 2 1 0]\n"
     ]
    },
    {
     "data": {
      "text/plain": [
       "'# Number of unique values in the original array\\nnum_classes = len(np.unique(y_train_rnn))\\nprint(num_classes)\\n\\n# Create a one-hot encoding of the original array\\none_hot_encoding = np.eye(num_classes)[y_train]\\n\\n# Print the one-hot encoding\\nprint(one_hot_encoding)'"
      ]
     },
     "execution_count": 93,
     "metadata": {},
     "output_type": "execute_result"
    }
   ],
   "source": [
    "from keras.utils import to_categorical\n",
    "\n",
    "# Assuming your original labels are in y_train_rnn\n",
    "y_train_rnn_encoded = to_categorical(y_train_rnn, num_classes=3)\n",
    "display(y_train_rnn_encoded)\n",
    "print(y_train)\n",
    "\n",
    "\n",
    "\"\"\"# Number of unique values in the original array\n",
    "num_classes = len(np.unique(y_train_rnn))\n",
    "print(num_classes)\n",
    "\n",
    "# Create a one-hot encoding of the original array\n",
    "one_hot_encoding = np.eye(num_classes)[y_train]\n",
    "\n",
    "# Print the one-hot encoding\n",
    "print(one_hot_encoding)\"\"\""
   ]
  },
  {
   "cell_type": "code",
   "execution_count": 96,
   "metadata": {},
   "outputs": [
    {
     "name": "stdout",
     "output_type": "stream",
     "text": [
      "Epoch 1/60\n",
      "643/643 [==============================] - 5s 5ms/step - loss: 1.0800 - accuracy: 0.3951\n",
      "Epoch 2/60\n",
      "643/643 [==============================] - 3s 4ms/step - loss: 1.0823 - accuracy: 0.3975\n",
      "Epoch 3/60\n",
      "643/643 [==============================] - 3s 4ms/step - loss: 1.0791 - accuracy: 0.4015\n",
      "Epoch 4/60\n",
      "643/643 [==============================] - 3s 4ms/step - loss: 1.0796 - accuracy: 0.4027\n",
      "Epoch 5/60\n",
      "643/643 [==============================] - 3s 4ms/step - loss: 1.0812 - accuracy: 0.4016\n",
      "Epoch 6/60\n",
      "643/643 [==============================] - 3s 5ms/step - loss: 1.0811 - accuracy: 0.3953\n",
      "Epoch 7/60\n",
      "643/643 [==============================] - 3s 5ms/step - loss: 1.0780 - accuracy: 0.4055\n",
      "Epoch 8/60\n",
      "643/643 [==============================] - 3s 4ms/step - loss: 1.0768 - accuracy: 0.4025\n",
      "Epoch 9/60\n",
      "643/643 [==============================] - 3s 5ms/step - loss: 1.0808 - accuracy: 0.3963\n",
      "Epoch 10/60\n",
      "643/643 [==============================] - 3s 4ms/step - loss: 1.0791 - accuracy: 0.3949\n",
      "Epoch 11/60\n",
      "643/643 [==============================] - 3s 5ms/step - loss: 1.0767 - accuracy: 0.4045\n",
      "Epoch 12/60\n",
      "643/643 [==============================] - 3s 5ms/step - loss: 1.0792 - accuracy: 0.3974\n",
      "Epoch 13/60\n",
      "643/643 [==============================] - 3s 4ms/step - loss: 1.0769 - accuracy: 0.4093\n",
      "Epoch 14/60\n",
      "643/643 [==============================] - 3s 4ms/step - loss: 1.0793 - accuracy: 0.3989\n",
      "Epoch 15/60\n",
      "643/643 [==============================] - 3s 5ms/step - loss: 1.0758 - accuracy: 0.4113\n",
      "Epoch 16/60\n",
      "643/643 [==============================] - 3s 4ms/step - loss: 1.0782 - accuracy: 0.4108\n",
      "Epoch 17/60\n",
      "643/643 [==============================] - 3s 5ms/step - loss: 1.0781 - accuracy: 0.3996\n",
      "Epoch 18/60\n",
      "643/643 [==============================] - 3s 5ms/step - loss: 1.0783 - accuracy: 0.4033\n",
      "Epoch 19/60\n",
      "643/643 [==============================] - 3s 5ms/step - loss: 1.0774 - accuracy: 0.4070\n",
      "Epoch 20/60\n",
      "643/643 [==============================] - 3s 5ms/step - loss: 1.0783 - accuracy: 0.4056\n",
      "Epoch 21/60\n",
      "643/643 [==============================] - 3s 4ms/step - loss: 1.0787 - accuracy: 0.4100\n",
      "Epoch 22/60\n",
      "643/643 [==============================] - 3s 5ms/step - loss: 1.0749 - accuracy: 0.4067\n",
      "Epoch 23/60\n",
      "643/643 [==============================] - 758s 1s/step - loss: 1.0762 - accuracy: 0.4041\n",
      "Epoch 24/60\n",
      "643/643 [==============================] - 3s 4ms/step - loss: 1.0771 - accuracy: 0.4042\n",
      "Epoch 25/60\n",
      "643/643 [==============================] - 6s 9ms/step - loss: 1.0768 - accuracy: 0.4055\n",
      "Epoch 26/60\n",
      "643/643 [==============================] - 18s 28ms/step - loss: 1.0742 - accuracy: 0.4111\n",
      "Epoch 27/60\n",
      "643/643 [==============================] - 18s 28ms/step - loss: 1.0730 - accuracy: 0.4112\n",
      "Epoch 28/60\n",
      "643/643 [==============================] - 17s 26ms/step - loss: 1.0737 - accuracy: 0.4048\n",
      "Epoch 29/60\n",
      "643/643 [==============================] - 17s 27ms/step - loss: 1.0738 - accuracy: 0.4165\n",
      "Epoch 30/60\n",
      "643/643 [==============================] - 18s 29ms/step - loss: 1.0754 - accuracy: 0.4095\n",
      "Epoch 31/60\n",
      "643/643 [==============================] - 17s 26ms/step - loss: 1.0723 - accuracy: 0.4100\n",
      "Epoch 32/60\n",
      "643/643 [==============================] - 16s 25ms/step - loss: 1.0727 - accuracy: 0.4135\n",
      "Epoch 33/60\n",
      "643/643 [==============================] - 16s 25ms/step - loss: 1.0744 - accuracy: 0.4087\n",
      "Epoch 34/60\n",
      "643/643 [==============================] - 17s 26ms/step - loss: 1.0696 - accuracy: 0.4204\n",
      "Epoch 35/60\n",
      "643/643 [==============================] - 16s 25ms/step - loss: 1.0730 - accuracy: 0.4113\n",
      "Epoch 36/60\n",
      "643/643 [==============================] - 16s 25ms/step - loss: 1.0740 - accuracy: 0.4053\n",
      "Epoch 37/60\n",
      "643/643 [==============================] - 16s 25ms/step - loss: 1.0709 - accuracy: 0.4190\n",
      "Epoch 38/60\n",
      "643/643 [==============================] - 531s 828ms/step - loss: 1.0728 - accuracy: 0.4115\n",
      "Epoch 39/60\n",
      "643/643 [==============================] - 13s 20ms/step - loss: 1.0708 - accuracy: 0.4156\n",
      "Epoch 40/60\n",
      "643/643 [==============================] - 6825s 11s/step - loss: 1.0710 - accuracy: 0.4127\n",
      "Epoch 41/60\n",
      "643/643 [==============================] - 4s 6ms/step - loss: 1.0683 - accuracy: 0.4172\n",
      "Epoch 42/60\n",
      "643/643 [==============================] - 3s 4ms/step - loss: 1.0669 - accuracy: 0.4243\n",
      "Epoch 43/60\n",
      "643/643 [==============================] - 2s 2ms/step - loss: 1.0729 - accuracy: 0.4083\n",
      "Epoch 44/60\n",
      "643/643 [==============================] - 1s 2ms/step - loss: 1.0689 - accuracy: 0.4211\n",
      "Epoch 45/60\n",
      "643/643 [==============================] - 1s 2ms/step - loss: 1.0733 - accuracy: 0.4143\n",
      "Epoch 46/60\n",
      "643/643 [==============================] - 1s 2ms/step - loss: 1.0680 - accuracy: 0.4210\n",
      "Epoch 47/60\n",
      "643/643 [==============================] - 1s 2ms/step - loss: 1.0691 - accuracy: 0.4175\n",
      "Epoch 48/60\n",
      "643/643 [==============================] - 1s 2ms/step - loss: 1.0716 - accuracy: 0.4142\n",
      "Epoch 49/60\n",
      "643/643 [==============================] - 1s 2ms/step - loss: 1.0681 - accuracy: 0.4217\n",
      "Epoch 50/60\n",
      "643/643 [==============================] - 1s 2ms/step - loss: 1.0698 - accuracy: 0.4121\n",
      "Epoch 51/60\n",
      "643/643 [==============================] - 1s 2ms/step - loss: 1.0690 - accuracy: 0.4168\n",
      "Epoch 52/60\n",
      "643/643 [==============================] - 1s 2ms/step - loss: 1.0685 - accuracy: 0.4231\n",
      "Epoch 53/60\n",
      "643/643 [==============================] - 1s 1ms/step - loss: 1.0705 - accuracy: 0.4188\n",
      "Epoch 54/60\n",
      "643/643 [==============================] - 1s 1ms/step - loss: 1.0666 - accuracy: 0.4189\n",
      "Epoch 55/60\n",
      "643/643 [==============================] - 1s 1ms/step - loss: 1.0669 - accuracy: 0.4205\n",
      "Epoch 56/60\n",
      "643/643 [==============================] - 1s 2ms/step - loss: 1.0663 - accuracy: 0.4262\n",
      "Epoch 57/60\n",
      "643/643 [==============================] - 1s 2ms/step - loss: 1.0652 - accuracy: 0.4227\n",
      "Epoch 58/60\n",
      "643/643 [==============================] - 1s 1ms/step - loss: 1.0650 - accuracy: 0.4267\n",
      "Epoch 59/60\n",
      "643/643 [==============================] - 1s 2ms/step - loss: 1.0629 - accuracy: 0.4337\n",
      "Epoch 60/60\n",
      "643/643 [==============================] - 2s 3ms/step - loss: 1.0667 - accuracy: 0.4238\n"
     ]
    }
   ],
   "source": [
    "model.compile(optimizer='sgd', loss='categorical_crossentropy', metrics=['accuracy'])\n",
    "history = model.fit(X_train_rnn, y_train_rnn_encoded, batch_size=16, epochs=60)"
   ]
  },
  {
   "cell_type": "code",
   "execution_count": 97,
   "metadata": {},
   "outputs": [
    {
     "name": "stdout",
     "output_type": "stream",
     "text": [
      "81/81 [==============================] - 0s 1ms/step\n",
      "494\n"
     ]
    }
   ],
   "source": [
    "y_pred = model.predict(X_test_rnn)\n",
    "#print(y_pred)\n",
    "predicted_class_index = np.argmax(y_pred)\n",
    "predicted_class = predicted_class_index\n",
    "print(predicted_class)"
   ]
  },
  {
   "cell_type": "code",
   "execution_count": 26,
   "metadata": {},
   "outputs": [
    {
     "ename": "ValueError",
     "evalue": "cannot reshape array of size 4 into shape (1,4,3)",
     "output_type": "error",
     "traceback": [
      "\u001b[1;31m---------------------------------------------------------------------------\u001b[0m",
      "\u001b[1;31mValueError\u001b[0m                                Traceback (most recent call last)",
      "Cell \u001b[1;32mIn[26], line 5\u001b[0m\n\u001b[0;32m      3\u001b[0m sample_sequence \u001b[38;5;241m=\u001b[39m np\u001b[38;5;241m.\u001b[39marray([sample_data] \u001b[38;5;241m*\u001b[39m \u001b[38;5;241m4\u001b[39m)\n\u001b[0;32m      4\u001b[0m \u001b[38;5;66;03m# Reshape the sample data to match the input shape\u001b[39;00m\n\u001b[1;32m----> 5\u001b[0m sample_sequence \u001b[38;5;241m=\u001b[39m sample_data\u001b[38;5;241m.\u001b[39mreshape(\u001b[38;5;241m1\u001b[39m, \u001b[38;5;241m4\u001b[39m, \u001b[38;5;241m3\u001b[39m)  \u001b[38;5;66;03m# 1 sample, sequence length of 10, and 3 attributes\u001b[39;00m\n\u001b[0;32m      6\u001b[0m \u001b[38;5;66;03m# Make predictions\u001b[39;00m\n\u001b[0;32m      7\u001b[0m predictions \u001b[38;5;241m=\u001b[39m model\u001b[38;5;241m.\u001b[39mpredict(sample_sequence)\n",
      "\u001b[1;31mValueError\u001b[0m: cannot reshape array of size 4 into shape (1,4,3)"
     ]
    }
   ],
   "source": [
    "sample_data = np.array([[0.9952445652173914,4.7027858242244615e-05,0.06919466468635627,0.12254955582596286]])\n",
    "# Create a sequence of 10 identical data points (assuming all attributes have the same value)\n",
    "sample_sequence = np.array([sample_data] * 4)\n",
    "# Reshape the sample data to match the input shape\n",
    "sample_sequence = sample_data.reshape(1, 4, 3)  # 1 sample, sequence length of 10, and 3 attributes\n",
    "# Make predictions\n",
    "predictions = model.predict(sample_sequence)\n",
    "#print(predictions)\n",
    "\n",
    "predicted_class_index = np.argmax(predictions)\n",
    "predicted_class = predicted_class_index\n",
    "print(predicted_class)"
   ]
  },
  {
   "cell_type": "code",
   "execution_count": 68,
   "metadata": {},
   "outputs": [
    {
     "name": "stdout",
     "output_type": "stream",
     "text": [
      "1/1 [==============================] - 0s 51ms/step\n",
      "1\n"
     ]
    }
   ],
   "source": [
    "import numpy as np\n",
    "\n",
    "sample_data = np.array([[0.9995471014492754,3.816370433047557e-05,0.0691692475684599,0.0007134523536799654]])\n",
    "\n",
    "# Create a sequence of 10 identical data points (assuming all attributes have the same value)\n",
    "sample_sequence = np.array([sample_data] * 10)  # Create a sequence of 10 data points\n",
    "\n",
    "# Reshape the sample data to match the input shape\n",
    "sample_sequence = sample_sequence.reshape(1, 10, 4)  # 1 sample, sequence length of 10, and 4 attributes\n",
    "\n",
    "# Make predictions\n",
    "predictions = model.predict(sample_sequence)\n",
    "\n",
    "predicted_class_index = np.argmax(predictions)\n",
    "predicted_class = predicted_class_index\n",
    "print(predicted_class)\n"
   ]
  },
  {
   "cell_type": "code",
   "execution_count": null,
   "metadata": {},
   "outputs": [],
   "source": []
  }
 ],
 "metadata": {
  "kernelspec": {
   "display_name": "Python 3 (ipykernel)",
   "language": "python",
   "name": "python3"
  },
  "language_info": {
   "codemirror_mode": {
    "name": "ipython",
    "version": 3
   },
   "file_extension": ".py",
   "mimetype": "text/x-python",
   "name": "python",
   "nbconvert_exporter": "python",
   "pygments_lexer": "ipython3",
   "version": "3.11.5"
  }
 },
 "nbformat": 4,
 "nbformat_minor": 2
}
