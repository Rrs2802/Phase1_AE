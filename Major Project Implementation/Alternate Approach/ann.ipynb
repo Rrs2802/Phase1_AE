{
 "cells": [
  {
   "cell_type": "code",
   "execution_count": null,
   "metadata": {
    "id": "6hh6BxZ1vRuD",
    "outputId": "11cd2ea4-3647-4396-9fa9-852d24dad61e"
   },
   "outputs": [
    {
     "name": "stderr",
     "output_type": "stream",
     "text": [
      "2023-10-27 14:37:30.110348: I tensorflow/core/platform/cpu_feature_guard.cc:182] This TensorFlow binary is optimized to use available CPU instructions in performance-critical operations.\n",
      "To enable the following instructions: AVX2 FMA, in other operations, rebuild TensorFlow with the appropriate compiler flags.\n"
     ]
    }
   ],
   "source": [
    "# Artificial Neural Network\n",
    "# Importing the libraries\n",
    "import numpy as np\n",
    "import pandas as pd\n",
    "import tensorflow as tf"
   ]
  },
  {
   "cell_type": "code",
   "execution_count": null,
   "metadata": {
    "id": "BRkDvjahvRuG",
    "outputId": "93ec8f54-e7ca-4ad3-ef59-b0da3985155c"
   },
   "outputs": [
    {
     "data": {
      "text/plain": [
       "'2.14.0'"
      ]
     },
     "execution_count": 13,
     "metadata": {},
     "output_type": "execute_result"
    }
   ],
   "source": [
    "tf.__version__"
   ]
  },
  {
   "cell_type": "code",
   "execution_count": null,
   "metadata": {
    "id": "V_oKDElxvRuG",
    "outputId": "b9d1ef25-78df-415a-fd07-1a1a34cc0faf"
   },
   "outputs": [
    {
     "name": "stdout",
     "output_type": "stream",
     "text": [
      "[[1.19573174e-05 5.06454678e-01 3.46215783e-01]\n",
      " [1.01628923e-05 5.02067251e-01 3.46215783e-01]\n",
      " [7.67160301e-06 4.93486111e-01 3.46215783e-01]\n",
      " ...\n",
      " [3.42073181e-06 1.30027047e-01 4.60889086e-01]\n",
      " [3.68205585e-06 1.30029971e-01 4.60889086e-01]\n",
      " [3.97822311e-06 1.30018275e-01 4.60401114e-01]]\n",
      "['anodic' 'anodic' 'anodic' ... 'corrosion' 'corrosion' 'corrosion']\n"
     ]
    }
   ],
   "source": [
    "# Part 1 - Data Preprocessing\n",
    "# Importing the dataset\n",
    "dataset = pd.read_csv('new_normalized_output.csv')\n",
    "X = dataset.iloc[:, 1:-1].values\n",
    "y = dataset.iloc[:, -1].values\n",
    "print(X)\n",
    "print(y)"
   ]
  },
  {
   "cell_type": "code",
   "execution_count": null,
   "metadata": {
    "id": "v05x3y6mvRuG",
    "outputId": "c81e7399-cd09-4487-e00f-13972e2771f0"
   },
   "outputs": [
    {
     "name": "stdout",
     "output_type": "stream",
     "text": [
      "[0 0 0 ... 2 2 2]\n"
     ]
    }
   ],
   "source": [
    "# Encoding categorical data\n",
    "# Label Encoding the \"Gender\" column\n",
    "from sklearn.preprocessing import LabelEncoder\n",
    "le = LabelEncoder()\n",
    "y = le.fit_transform(y)\n",
    "print(y)"
   ]
  },
  {
   "cell_type": "code",
   "execution_count": null,
   "metadata": {
    "id": "i3MbjHhMvRuG"
   },
   "outputs": [],
   "source": [
    "# Splitting the dataset into the Training set and Test set\n",
    "from sklearn.model_selection import train_test_split\n",
    "X_train, X_test, y_train, y_test = train_test_split(X, y, test_size = 0.2, random_state = 5)"
   ]
  },
  {
   "cell_type": "code",
   "execution_count": null,
   "metadata": {
    "id": "-AhD1tTKvRuH",
    "outputId": "5920f149-86df-4f17-9d7a-dc7f3e8ceb53"
   },
   "outputs": [
    {
     "name": "stdout",
     "output_type": "stream",
     "text": [
      "[[3.42073181e-06 1.30040205e-01 3.97452789e-01]\n",
      " [1.19050526e-05 1.29578947e-01 2.27736302e-01]\n",
      " [2.30574920e-06 1.30438596e-01 7.88171574e-01]\n",
      " ...\n",
      " [4.67508724e-06 1.29668129e-01 1.38291123e-01]\n",
      " [5.42421618e-06 1.30043129e-01 3.98575126e-01]\n",
      " [2.47996523e-06 1.29652778e-01 1.87039478e-01]] [2 1 0 ... 1 2 1]\n"
     ]
    }
   ],
   "source": [
    "print(X_train, y_train)"
   ]
  },
  {
   "cell_type": "code",
   "execution_count": null,
   "metadata": {
    "id": "4CW5b_PgvRuH"
   },
   "outputs": [],
   "source": [
    "# Feature Scaling\n",
    "from sklearn.preprocessing import StandardScaler\n",
    "sc = StandardScaler()\n",
    "X_train = sc.fit_transform(X_train)\n",
    "X_test = sc.transform(X_test)"
   ]
  },
  {
   "cell_type": "code",
   "execution_count": null,
   "metadata": {
    "id": "KMTOZ_QmvRuH"
   },
   "outputs": [],
   "source": [
    "# Part 2 - Building the ANN\n",
    "# Initializing the ANN\n",
    "ann = tf.keras.models.Sequential()\n",
    "# Adding the input layer and the first hidden layer\n",
    "ann.add(tf.keras.layers.Dense(units=6, activation='relu'))\n",
    "# Adding the second hidden layer\n",
    "ann.add(tf.keras.layers.Dense(units=6, activation='relu'))\n",
    "# Adding the second hidden layer\n",
    "ann.add(tf.keras.layers.Dense(units=6, activation='relu'))\n",
    "# Adding the second hidden layer\n",
    "ann.add(tf.keras.layers.Dense(units=6, activation='relu'))\n",
    "# Adding the second hidden layer\n",
    "ann.add(tf.keras.layers.Dense(units=6, activation='relu'))\n",
    "# Adding the output layer\n",
    "ann.add(tf.keras.layers.Dense(units=1, activation='softmax'))"
   ]
  },
  {
   "cell_type": "code",
   "execution_count": null,
   "metadata": {
    "id": "bLlYXxfpvRuH"
   },
   "outputs": [],
   "source": [
    "# Example of adding dropout layers\n",
    "ann.add(tf.keras.layers.Dropout(0.5))"
   ]
  },
  {
   "cell_type": "code",
   "execution_count": null,
   "metadata": {
    "id": "E_AfzSQwvRuI"
   },
   "outputs": [],
   "source": [
    "# Part 3 - Training the ANN\n",
    "# Compiling the ANN\n",
    "ann.compile(optimizer = 'FTRL', loss = 'binary_crossentropy', metrics = ['accuracy'])"
   ]
  },
  {
   "cell_type": "code",
   "execution_count": null,
   "metadata": {
    "id": "-_06bcv9vRuI",
    "outputId": "f8d08f75-547a-48e1-8e4d-e481616a5393"
   },
   "outputs": [
    {
     "name": "stdout",
     "output_type": "stream",
     "text": [
      "Epoch 1/10\n",
      "56877/56877 [==============================] - 78s 1ms/step - loss: 7.7092 - accuracy: 0.3440\n",
      "Epoch 2/10\n",
      "56877/56877 [==============================] - 78s 1ms/step - loss: 7.7133 - accuracy: 0.3439\n",
      "Epoch 3/10\n",
      "56877/56877 [==============================] - 78s 1ms/step - loss: 7.6982 - accuracy: 0.3440\n",
      "Epoch 4/10\n",
      "56877/56877 [==============================] - 79s 1ms/step - loss: 7.6931 - accuracy: 0.3441\n",
      "Epoch 5/10\n",
      "56877/56877 [==============================] - 80s 1ms/step - loss: 7.7007 - accuracy: 0.3440\n",
      "Epoch 6/10\n",
      "56877/56877 [==============================] - 80s 1ms/step - loss: 7.7205 - accuracy: 0.3441\n",
      "Epoch 7/10\n",
      "56877/56877 [==============================] - 88s 2ms/step - loss: 7.7215 - accuracy: 0.3438\n",
      "Epoch 8/10\n",
      "56877/56877 [==============================] - 162s 3ms/step - loss: 7.7075 - accuracy: 0.3443\n",
      "Epoch 9/10\n",
      "56877/56877 [==============================] - 80s 1ms/step - loss: 7.7019 - accuracy: 0.3439\n",
      "Epoch 10/10\n",
      "56877/56877 [==============================] - 80s 1ms/step - loss: 7.7233 - accuracy: 0.3431\n"
     ]
    },
    {
     "data": {
      "text/plain": [
       "<keras.src.callbacks.History at 0x14380f890>"
      ]
     },
     "execution_count": 31,
     "metadata": {},
     "output_type": "execute_result"
    }
   ],
   "source": [
    "# Training the ANN on the Training set\n",
    "history=ann.fit(X_train, y_train, batch_size = 32, epochs = 10)\n"
   ]
  },
  {
   "cell_type": "code",
   "execution_count": null,
   "metadata": {
    "id": "0H3NQisrvRuI",
    "outputId": "e76357e7-0ce9-4848-dcf0-8a1d066bb47d"
   },
   "outputs": [
    {
     "name": "stdout",
     "output_type": "stream",
     "text": [
      "14220/14220 [==============================] - 12s 856us/step\n",
      "1/1 [==============================] - 0s 18ms/step\n",
      "[[1.]]\n"
     ]
    }
   ],
   "source": [
    "# Predicting the Test set results\n",
    "y_pred = ann.predict(X_test)\n",
    "y_pred = (y_pred)\n",
    "print(ann.predict(sc.transform([[3.5426830286659757e-06,0.24547880116959062,0.3226955560075358]])))\n"
   ]
  }
 ],
 "metadata": {
  "colab": {
   "provenance": []
  },
  "kernelspec": {
   "display_name": "Python 3 (ipykernel)",
   "language": "python",
   "name": "python3"
  },
  "language_info": {
   "codemirror_mode": {
    "name": "ipython",
    "version": 3
   },
   "file_extension": ".py",
   "mimetype": "text/x-python",
   "name": "python",
   "nbconvert_exporter": "python",
   "pygments_lexer": "ipython3",
   "version": "3.11.5"
  },
  "vscode": {
   "interpreter": {
    "hash": "aee8b7b246df8f9039afb4144a1f6fd8d2ca17a180786b69acc140d282b71a49"
   }
  }
 },
 "nbformat": 4,
 "nbformat_minor": 1
}
